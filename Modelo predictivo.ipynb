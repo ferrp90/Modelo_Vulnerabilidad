{
 "cells": [
  {
   "cell_type": "code",
   "execution_count": 24,
   "id": "5a4be83b-496c-4655-9f4e-a221e2f2ce83",
   "metadata": {},
   "outputs": [
    {
     "name": "stdout",
     "output_type": "stream",
     "text": [
      "Random Forest Metrics\n",
      "[[67  0  8]\n",
      " [ 0  2  4]\n",
      " [ 7  0 98]]\n",
      "              precision    recall  f1-score   support\n",
      "\n",
      "        Alta       0.91      0.89      0.90        75\n",
      "        Baja       1.00      0.33      0.50         6\n",
      "       Media       0.89      0.93      0.91       105\n",
      "\n",
      "    accuracy                           0.90       186\n",
      "   macro avg       0.93      0.72      0.77       186\n",
      "weighted avg       0.90      0.90      0.89       186\n",
      "\n"
     ]
    }
   ],
   "source": [
    "# Librerías\n",
    "import pandas as pd\n",
    "from sklearn.model_selection import train_test_split\n",
    "from sklearn.preprocessing import LabelEncoder\n",
    "from sklearn.ensemble import RandomForestClassifier\n",
    "from sklearn.metrics import classification_report, confusion_matrix\n",
    "\n",
    "\n",
    "# Cargar dataset\n",
    "df = pd.read_excel(\"Vulnerabilidades.xlsx\", sheet_name=\"Sheet1\")\n",
    "\n",
    "#Llenamos los campos vacios\n",
    "df['Nivel de Ingles'] = df['Nivel de Ingles'].fillna('No indicó')\n",
    "df['Año Experiencia'] = df['Año Experiencia'].fillna(2)\n",
    "\n",
    "\n",
    "# Separar variables\n",
    "X = df.drop(columns=[\"Vulnerabilidad\", \"Id\",\"OFICIO\",\"OBSERVACIONES GENERALES\",\"ESTADO USA\",\"age_range\",\"age_range2\",\"Score\"]) # Variables independientes\n",
    "y = df[\"Vulnerabilidad\"]  # Variable dependiente\n",
    "\n",
    "# Convertir variables categóricas a numéricas\n",
    "categorical_cols = [\"SEXO\", \"Departamento\", \"Municipio\", \"Escolaridad\",\"NIVEL ESCOLARIDAD\", \"SABE INGLES (SI/NO)\", \"Nivel de Ingles\",\n",
    "                    \"Familiares USA\"]\n",
    "\n",
    "#Se define las columnas que tienen datos categoricos y se asigna un valor entero unico a cada categoria\n",
    "le_dict = {}\n",
    "for col in categorical_cols:\n",
    "    le = LabelEncoder()\n",
    "    X[col] = le.fit_transform(X[col].astype(str))\n",
    "    le_dict[col] = le\n",
    "\n",
    "# Dividir en entrenamiento y prueba, entrenamiento 70% y prueba 30%\n",
    "X_train, X_test, y_train, y_test = train_test_split(X, y, test_size=0.3, random_state=42, stratify=y)\n",
    "\n",
    "# Modelo Random Forest\n",
    "rf = RandomForestClassifier(n_estimators=200, max_depth=8, random_state=42)\n",
    "rf.fit(X_train, y_train)\n",
    "y_pred_rf = rf.predict(X_test)\n",
    "\n",
    "# Evaluación Random Forest\n",
    "print(\"Random Forest Metrics\")\n",
    "\n",
    "#Matriz de confusión\n",
    "print(confusion_matrix(y_test, y_pred_rf))\n",
    "\n",
    "#Reporte de clasificación (Precision, Recall, F1-score)\n",
    "print(classification_report(y_test, y_pred_rf))"
   ]
  },
  {
   "cell_type": "code",
   "execution_count": 25,
   "id": "302a0de8-7d96-42ac-88d7-855d8f945973",
   "metadata": {},
   "outputs": [
    {
     "data": {
      "image/png": "[encoded data removed]",
      "text/plain": [
       "<Figure size 640x480 with 2 Axes>"
      ]
     },
     "metadata": {},
     "output_type": "display_data"
    },
    {
     "name": "stdout",
     "output_type": "stream",
     "text": [
      "Reporte de Clasificación Random Forest Balanceado\n",
      "              precision    recall  f1-score   support\n",
      "\n",
      "        Alta       0.91      0.91      0.91        75\n",
      "       Media       0.90      0.93      0.92       105\n",
      "        Baja       1.00      0.33      0.50         6\n",
      "\n",
      "    accuracy                           0.90       186\n",
      "   macro avg       0.94      0.72      0.77       186\n",
      "weighted avg       0.91      0.90      0.90       186\n",
      "\n"
     ]
    }
   ],
   "source": [
    "import seaborn as sns\n",
    "import matplotlib.pyplot as plt\n",
    "\n",
    "# Dividir dataset en entrenamiento y prueba\n",
    "X_train, X_test, y_train, y_test = train_test_split(\n",
    "    X, y, test_size=0.3, random_state=42, stratify=y\n",
    ")\n",
    "\n",
    "# Crear modelo Random Forest con balanceo de clases\n",
    "rf_balanced = RandomForestClassifier(\n",
    "    n_estimators=200,\n",
    "    max_depth=8,\n",
    "    random_state=42,\n",
    "    class_weight='balanced'\n",
    ")\n",
    "\n",
    "# Entrenar modelo\n",
    "rf_balanced.fit(X_train, y_train)\n",
    "\n",
    "# Hacer predicciones\n",
    "y_pred = rf_balanced.predict(X_test)\n",
    "\n",
    "# Matriz de confusión\n",
    "cm = confusion_matrix(y_test, y_pred, labels=['Alta', 'Media', 'Baja'])\n",
    "sns.heatmap(cm, annot=True, fmt='d', cmap='Blues',\n",
    "            xticklabels=['Alta', 'Media', 'Baja'],\n",
    "            yticklabels=['Alta', 'Media', 'Baja'])\n",
    "plt.ylabel('Clase real')\n",
    "plt.xlabel('Clase predicha')\n",
    "plt.title('Matriz de Confusión Random Forest Balanceado')\n",
    "plt.show()\n",
    "\n",
    "# Reporte de clasificación\n",
    "print(\"Reporte de Clasificación Random Forest Balanceado\")\n",
    "print(classification_report(y_test, y_pred, labels=['Alta', 'Media', 'Baja']))"
   ]
  },
  {
   "cell_type": "code",
   "execution_count": 26,
   "id": "f0a121b3-7708-4193-9b7c-8fa095a3d6da",
   "metadata": {},
   "outputs": [
    {
     "name": "stdout",
     "output_type": "stream",
     "text": [
      "XGBoost Metrics\n",
      "[[71  0  4]\n",
      " [ 0  3  3]\n",
      " [ 8  0 97]]\n",
      "              precision    recall  f1-score   support\n",
      "\n",
      "           0       0.90      0.95      0.92        75\n",
      "           1       1.00      0.50      0.67         6\n",
      "           2       0.93      0.92      0.93       105\n",
      "\n",
      "    accuracy                           0.92       186\n",
      "   macro avg       0.94      0.79      0.84       186\n",
      "weighted avg       0.92      0.92      0.92       186\n",
      "\n"
     ]
    }
   ],
   "source": [
    "# Librerías\n",
    "import xgboost as xgb\n",
    "\n",
    "# Convertir y a valores numéricos\n",
    "le2 = LabelEncoder()\n",
    "y_encoded = le2.fit_transform(y)  # 'Alta'->0, 'Baja'->1, 'Media'->2\n",
    "\n",
    "X_train, X_test, y_train, y_test = train_test_split(X, y_encoded, test_size=0.3, random_state=42, stratify=y_encoded)\n",
    "\n",
    "# Modelo XGBoost\n",
    "xgb_model = xgb.XGBClassifier(n_estimators=200, max_depth=6, learning_rate=0.1, random_state=42)\n",
    "xgb_model.fit(X_train, y_train)\n",
    "y_pred_xgb = xgb_model.predict(X_test)\n",
    "\n",
    "# Evaluación XGBoost\n",
    "print(\"XGBoost Metrics\")\n",
    "print(confusion_matrix(y_test, y_pred_xgb))\n",
    "print(classification_report(y_test, y_pred_xgb))\n"
   ]
  },
  {
   "cell_type": "code",
   "execution_count": 27,
   "id": "d469bade-b300-4917-84b5-b1c518900e51",
   "metadata": {},
   "outputs": [
    {
     "name": "stdout",
     "output_type": "stream",
     "text": [
      "Clases balanceadas tras SMOTE: {'Alta': 244, 'Baja': 244, 'Media': 244}\n"
     ]
    },
    {
     "name": "stderr",
     "output_type": "stream",
     "text": [
      "C:\\Users\\ferro\\AppData\\Local\\Programs\\Python\\Python312\\Lib\\site-packages\\xgboost\\training.py:183: UserWarning: [23:24:22] WARNING: C:\\actions-runner\\_work\\xgboost\\xgboost\\src\\learner.cc:738: \n",
      "Parameters: { \"use_label_encoder\" } are not used.\n",
      "\n",
      "  bst.update(dtrain, iteration=i, fobj=obj)\n"
     ]
    },
    {
     "name": "stdout",
     "output_type": "stream",
     "text": [
      "Matriz de confusión:\n",
      "[[71  0  4]\n",
      " [ 0  5  1]\n",
      " [ 8  1 96]]\n",
      "\n",
      "Reporte de clasificación:\n",
      "              precision    recall  f1-score   support\n",
      "\n",
      "        Alta       0.90      0.95      0.92        75\n",
      "        Baja       0.83      0.83      0.83         6\n",
      "       Media       0.95      0.91      0.93       105\n",
      "\n",
      "    accuracy                           0.92       186\n",
      "   macro avg       0.89      0.90      0.90       186\n",
      "weighted avg       0.93      0.92      0.92       186\n",
      "\n"
     ]
    }
   ],
   "source": [
    "from imblearn.over_sampling import SMOTE\n",
    "import numpy as np\n",
    "# Aplicar SMOTE solo al set de entrenamiento\n",
    "smote = SMOTE(random_state=42)\n",
    "X_train_res, y_train_res = smote.fit_resample(X_train, y_train)\n",
    "\n",
    "# Verificar nuevo balance de clases\n",
    "unique, counts = np.unique(y_train_res, return_counts=True)\n",
    "print(\"Clases balanceadas tras SMOTE:\", dict(zip(le2.inverse_transform(unique), counts)))\n",
    "\n",
    "# Entrenar modelo XGBoost\n",
    "xgb = xgb.XGBClassifier(n_estimators=200, max_depth=8, random_state=42, use_label_encoder=False, eval_metric='mlogloss')\n",
    "xgb.fit(X_train_res, y_train_res)\n",
    "\n",
    "# Predecir sobre el set de prueba\n",
    "y_pred = xgb.predict(X_test)\n",
    "\n",
    "# Evaluar desempeño\n",
    "print(\"Matriz de confusión:\")\n",
    "print(confusion_matrix(y_test, y_pred))\n",
    "print(\"\\nReporte de clasificación:\")\n",
    "print(classification_report(y_test, y_pred, target_names=le2.classes_))"
   ]
  },
  {
   "cell_type": "code",
   "execution_count": null,
   "id": "56d8deb7-6965-4570-aee7-0182609a8386",
   "metadata": {},
   "outputs": [],
   "source": []
  }
 ],
 "metadata": {
  "kernelspec": {
   "display_name": "Python 3 (ipykernel)",
   "language": "python",
   "name": "python3"
  },
  "language_info": {
   "codemirror_mode": {
    "name": "ipython",
    "version": 3
   },
   "file_extension": ".py",
   "mimetype": "text/x-python",
   "name": "python",
   "nbconvert_exporter": "python",
   "pygments_lexer": "ipython3",
   "version": "3.12.6"
  }
 },
 "nbformat": 4,
 "nbformat_minor": 5
}
