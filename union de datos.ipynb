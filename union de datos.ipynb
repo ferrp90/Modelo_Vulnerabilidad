{
 "cells": [
  {
   "cell_type": "code",
   "execution_count": 32,
   "id": "2cf7a87e-c654-458c-a8c1-2793d029a9fb",
   "metadata": {},
   "outputs": [
    {
     "name": "stdout",
     "output_type": "stream",
     "text": [
      "     Id SEXO  EDAD Departamento       Municipio    Escolaridad  \\\n",
      "0  I001    M    34        Petén     Desconocido  Diversificado   \n",
      "1  I002    M    29   Chiquimula     Desconocido   Sin estudios   \n",
      "2  I003    M    19    Guatemala     Villa Nueva  Diversificado   \n",
      "3  I004    M    19       Izabal  Puerto Barrios        Básicos   \n",
      "4  I005    M    29       Quiché     Desconocido       Primaria   \n",
      "\n",
      "      NIVEL ESCOLARIDAD SABE INGLES (SI/NO) Nivel de Ingles  \\\n",
      "0         Diversificado                  No             NaN   \n",
      "1          Sin estudios                  No             NaN   \n",
      "2         Diversificado                  No             NaN   \n",
      "3  Secundaria / Básicos                  No             NaN   \n",
      "4              Primaria                  Si      Intermedio   \n",
      "\n",
      "                                              OFICIO  Año Experiencia  \\\n",
      "0                                             pintor              4.0   \n",
      "1                               campo cortando fruta             10.0   \n",
      "2                     Perito Contador en Computación              0.0   \n",
      "3                                                NaN              NaN   \n",
      "4  Construcción, demolición; cocinero y cortador ...              7.0   \n",
      "\n",
      "                             OBSERVACIONES GENERALES   ESTADO USA  \\\n",
      "0                     el empleo lo necesita en peten          NaN   \n",
      "1              no ha recibido cursos ni ha estudiado  san antonio   \n",
      "2  Está interesado en cualquier oportunidad labor...          NaN   \n",
      "3                                                NaN          NaN   \n",
      "4  Tiene interés de tener conocimiento en emprend...      Florida   \n",
      "\n",
      "  Familiares USA  \n",
      "0             Sí  \n",
      "1             Sí  \n",
      "2             Sí  \n",
      "3             Sí  \n",
      "4             Sí  \n",
      "   CODIGODEPARTAMENTO DEPARTAMENTO  CODIGO MUNICIPIO              MUNICIPIO  \\\n",
      "0                   1    GUATEMALA               101              Guatemala   \n",
      "1                   1    GUATEMALA               102  Santa Catarina Pinula   \n",
      "2                   1    GUATEMALA               103        San José Pinula   \n",
      "3                   1    GUATEMALA               104     San José Del Golfo   \n",
      "4                   1    GUATEMALA               105               Palencia   \n",
      "\n",
      "   INDICE SALUD 2002  INDICE EDUCACION 2002  \\\n",
      "0           0.881195               0.629324   \n",
      "1           0.788239               0.569055   \n",
      "2           0.775979               0.463250   \n",
      "3           0.773451               0.405502   \n",
      "4           0.707619               0.349236   \n",
      "\n",
      "   INDICE NIVEL DE VIDA (INGRESO) 2002  IDHM 2002  INDICE SALUD 2018  \\\n",
      "0                             0.756717   0.748675           0.925212   \n",
      "1                             0.725029   0.687685           0.902945   \n",
      "2                             0.684222   0.626548           0.893753   \n",
      "3                             0.637002   0.584596           0.916904   \n",
      "4                             0.624871   0.536500           0.861075   \n",
      "\n",
      "   INDICE EDUCACION 2018  INDICE NIVEL DE VIDA (INGRESO) 2018  IDHM 2018  \n",
      "0               0.679795                             0.789167   0.791764  \n",
      "1               0.659268                             0.776650   0.773243  \n",
      "2               0.609769                             0.751077   0.742488  \n",
      "3               0.536394                             0.685747   0.696077  \n",
      "4               0.488023                             0.682669   0.659524  \n"
     ]
    }
   ],
   "source": [
    "#importamos las librerias que se van a usar\n",
    "import pandas as pd\n",
    "\n",
    "# Leer un archivo Excel y seleccionar una hoja en específico\n",
    "df = pd.read_excel(\"DataSet_1_1.xlsx\", sheet_name=\"Sheet1\")\n",
    "df_IDHM = pd.read_excel(\"IDHM.xlsx\", sheet_name=\"Base IDHM\")\n",
    "\n",
    "# Mostrar las primeras filas\n",
    "print(df.head())\n",
    "print(df_IDHM.head())"
   ]
  },
  {
   "cell_type": "code",
   "execution_count": 33,
   "id": "a7d55395-5cf9-4679-97d2-1478db217799",
   "metadata": {},
   "outputs": [],
   "source": [
    "#Ponemos los nombres iguales en las columnas\n",
    "df_IDHM = df_IDHM.rename(columns={\n",
    "    \"DEPARTAMENTO\": \"Departamento\",\n",
    "    \"MUNICIPIO\": \"Municipio\"\n",
    "})\n"
   ]
  },
  {
   "cell_type": "code",
   "execution_count": 34,
   "id": "ff6c7d4b-aafb-41d2-b046-ccd265cc81fc",
   "metadata": {},
   "outputs": [],
   "source": [
    "#Se va normalizar los catalogos de Departamento y municipio\n",
    "import unidecode  # para quitar tildes y caracteres especiales\n",
    "\n",
    "# Función para normalizar texto\n",
    "def normalize_text(s):\n",
    "    if pd.isna(s):\n",
    "        return ''\n",
    "    s = str(s).lower()              # convertir a minúsculas\n",
    "    s = unidecode.unidecode(s)      # quitar tildes\n",
    "    s = s.replace('.', '')          # quitar puntos si los hubiera\n",
    "    return s\n",
    "\n",
    "# Aplicar la funcion a las columnas\n",
    "df['Departamento'] = df['Departamento'].apply(normalize_text)\n",
    "df['Municipio'] = df['Municipio'].apply(normalize_text)\n",
    "\n",
    "df_IDHM['Departamento'] = df_IDHM['Departamento'].apply(normalize_text)\n",
    "df_IDHM['Municipio'] = df_IDHM['Municipio'].apply(normalize_text)"
   ]
  },
  {
   "cell_type": "code",
   "execution_count": 35,
   "id": "e0845d50-4417-4efc-af9a-f73dfac568fc",
   "metadata": {},
   "outputs": [
    {
     "name": "stdout",
     "output_type": "stream",
     "text": [
      "Departamento      0\n",
      "Municipio         0\n",
      "IDHM 2002       294\n",
      "dtype: int64\n"
     ]
    }
   ],
   "source": [
    "#Hacemos un left join para el indicador de IDHM\n",
    "df = df.merge(\n",
    "    df_IDHM[['Departamento', 'Municipio', 'IDHM 2002']],\n",
    "    on=['Departamento', 'Municipio'],\n",
    "    how='left'  \n",
    ")\n",
    "\n",
    "# Revisar valores faltantes\n",
    "print(df[['Departamento','Municipio','IDHM 2002']].isna().sum())"
   ]
  },
  {
   "cell_type": "code",
   "execution_count": 36,
   "id": "c6380ba9-9c1f-4fc8-949f-30661ce5441f",
   "metadata": {},
   "outputs": [
    {
     "name": "stdout",
     "output_type": "stream",
     "text": [
      "     Departamento       Municipio  IDHM 2002\n",
      "0           peten     desconocido        NaN\n",
      "1      chiquimula     desconocido        NaN\n",
      "2       guatemala     villa nueva   0.687794\n",
      "3          izabal  puerto barrios   0.620433\n",
      "4          quiche     desconocido        NaN\n",
      "5       escuintla     desconocido        NaN\n",
      "6          quiche          chajul   0.403506\n",
      "7         jutiapa      jalpatagua   0.562542\n",
      "8    baja verapaz     desconocido        NaN\n",
      "9  quetzaltenango     desconocido        NaN\n",
      "        IDHM 2002\n",
      "count  349.000000\n",
      "mean     0.510694\n",
      "std      0.096734\n",
      "min      0.344029\n",
      "25%      0.441346\n",
      "50%      0.505444\n",
      "75%      0.564466\n",
      "max      0.748675\n"
     ]
    }
   ],
   "source": [
    "print(df[['Departamento','Municipio','IDHM 2002']].head(10))\n",
    "print(df[['IDHM 2002']].describe())"
   ]
  },
  {
   "cell_type": "code",
   "execution_count": 37,
   "id": "cb0cd791-0a44-45dd-ac56-df55f201959d",
   "metadata": {},
   "outputs": [
    {
     "name": "stdout",
     "output_type": "stream",
     "text": [
      "     Departamento       Municipio  IDHM 2002\n",
      "0           peten     desconocido   0.507598\n",
      "1      chiquimula     desconocido   0.493567\n",
      "2       guatemala     villa nueva   0.687794\n",
      "3          izabal  puerto barrios   0.620433\n",
      "4          quiche     desconocido   0.434368\n",
      "5       escuintla     desconocido   0.550541\n",
      "6          quiche          chajul   0.403506\n",
      "7         jutiapa      jalpatagua   0.562542\n",
      "8    baja verapaz     desconocido   0.505567\n",
      "9  quetzaltenango     desconocido   0.542240\n",
      "        IDHM 2002\n",
      "count  617.000000\n",
      "mean     0.500083\n",
      "std      0.079052\n",
      "min      0.344029\n",
      "25%      0.449358\n",
      "50%      0.504953\n",
      "75%      0.538276\n",
      "max      0.748675\n"
     ]
    }
   ],
   "source": [
    "# Promedio de IDHM por departamento ya que se desconoce el municipio\n",
    "promedios_IDHM = df_IDHM.groupby('Departamento')[['IDHM 2002']].mean().reset_index()\n",
    "\n",
    "# Merge para traer promedio\n",
    "df = df.merge(promedios_IDHM, on='Departamento', suffixes=('', '_prom'))\n",
    "\n",
    "# Rellenar NaN con promedio departamental\n",
    "df['IDHM 2002'] = df['IDHM 2002'].fillna(df['IDHM 2002_prom'])\n",
    "\n",
    "# Eliminar columnas auxiliares\n",
    "df = df.drop(columns=['IDHM 2002_prom'])\n",
    "\n",
    "print(df[['Departamento','Municipio','IDHM 2002']].head(10))\n",
    "print(df[['IDHM 2002']].describe())"
   ]
  },
  {
   "cell_type": "code",
   "execution_count": 38,
   "id": "c2de9eca-a896-46fc-ad9b-3ffcffa38e9b",
   "metadata": {},
   "outputs": [
    {
     "name": "stdout",
     "output_type": "stream",
     "text": [
      "Departamento    0\n",
      "Municipio       0\n",
      "IDHM 2002       0\n",
      "dtype: int64\n"
     ]
    }
   ],
   "source": [
    "# Revisar valores faltantes\n",
    "print(df[['Departamento','Municipio','IDHM 2002']].isna().sum())"
   ]
  },
  {
   "cell_type": "code",
   "execution_count": 39,
   "id": "5ee0d74d-918f-4cc4-a092-bb2efbd10282",
   "metadata": {},
   "outputs": [
    {
     "name": "stdout",
     "output_type": "stream",
     "text": [
      "Departamento           0\n",
      "Municipio              0\n",
      "IPM EDUCACION        268\n",
      "IPM EMPLEO           268\n",
      "IPM VIVIENDA         268\n",
      "IPM SERV. BASICOS    268\n",
      "IPM                  268\n",
      "dtype: int64\n",
      "     Departamento       Municipio  IPM EDUCACION  IPM EMPLEO  IPM VIVIENDA  \\\n",
      "0           peten     desconocido            NaN         NaN           NaN   \n",
      "1      chiquimula     desconocido            NaN         NaN           NaN   \n",
      "2       guatemala     villa nueva          0.175    0.129283      0.093611   \n",
      "3          izabal  puerto barrios          0.226    0.186063      0.104220   \n",
      "4          quiche     desconocido            NaN         NaN           NaN   \n",
      "5       escuintla     desconocido            NaN         NaN           NaN   \n",
      "6          quiche          chajul          0.498    0.440530      0.681797   \n",
      "7         jutiapa      jalpatagua          0.300    0.253702      0.252856   \n",
      "8    baja verapaz     desconocido            NaN         NaN           NaN   \n",
      "9  quetzaltenango     desconocido            NaN         NaN           NaN   \n",
      "\n",
      "   IPM SERV. BASICOS       IPM  \n",
      "0                NaN       NaN  \n",
      "1                NaN       NaN  \n",
      "2           0.092642  0.122477  \n",
      "3           0.253683  0.218593  \n",
      "4                NaN       NaN  \n",
      "5                NaN       NaN  \n",
      "6           0.302400  0.564659  \n",
      "7           0.183096  0.311174  \n",
      "8                NaN       NaN  \n",
      "9                NaN       NaN  \n",
      "        IDHM 2002\n",
      "count  617.000000\n",
      "mean     0.500083\n",
      "std      0.079052\n",
      "min      0.344029\n",
      "25%      0.449358\n",
      "50%      0.504953\n",
      "75%      0.538276\n",
      "max      0.748675\n"
     ]
    }
   ],
   "source": [
    "#se va leer el otro dataset que tiene los indicadores IPM\n",
    "df_IPM = pd.read_excel(\"IDHM.xlsx\", sheet_name=\"Base IPM\")\n",
    "\n",
    "#Ponemos los nombres iguales en las columnas\n",
    "df_IPM = df_IPM.rename(columns={\n",
    "    \"DEPARTAMENTO\": \"Departamento\",\n",
    "    \"MUNICIPIO\": \"Municipio\"\n",
    "})\n",
    "\n",
    "# Aplicar la funcion de normalizar a las columnas\n",
    "df_IPM['Departamento'] = df_IPM['Departamento'].apply(normalize_text)\n",
    "df_IPM['Municipio'] = df_IPM['Municipio'].apply(normalize_text)\n",
    "\n",
    "#Hacemos el left join para el indicador de IPM\n",
    "df = df.merge(\n",
    "    df_IPM[['Departamento', 'Municipio', 'IPM EDUCACION','IPM EMPLEO','IPM VIVIENDA','IPM SERV. BASICOS','IPM']],\n",
    "    on=['Departamento', 'Municipio'],\n",
    "    how='left'  \n",
    ")\n",
    "\n",
    "# Revisar valores faltantes\n",
    "print(df[['Departamento','Municipio','IPM EDUCACION','IPM EMPLEO','IPM VIVIENDA','IPM SERV. BASICOS','IPM']].isna().sum())\n",
    "\n",
    "print(df[['Departamento','Municipio','IPM EDUCACION','IPM EMPLEO','IPM VIVIENDA','IPM SERV. BASICOS','IPM']].head(10))\n",
    "print(df[['IDHM 2002']].describe())"
   ]
  },
  {
   "cell_type": "code",
   "execution_count": 40,
   "id": "004de37a-ec9b-41e0-8540-34989adb1fa6",
   "metadata": {},
   "outputs": [
    {
     "name": "stdout",
     "output_type": "stream",
     "text": [
      "     Departamento       Municipio  IPM EDUCACION  IPM EMPLEO  IPM VIVIENDA  \\\n",
      "0           peten     desconocido       0.363857    0.301729      0.302765   \n",
      "1      chiquimula     desconocido       0.372727    0.273340      0.427447   \n",
      "2       guatemala     villa nueva       0.175000    0.129283      0.093611   \n",
      "3          izabal  puerto barrios       0.226000    0.186063      0.104220   \n",
      "4          quiche     desconocido       0.461810    0.323532      0.517747   \n",
      "5       escuintla     desconocido       0.303929    0.213027      0.200929   \n",
      "6          quiche          chajul       0.498000    0.440530      0.681797   \n",
      "7         jutiapa      jalpatagua       0.300000    0.253702      0.252856   \n",
      "8    baja verapaz     desconocido       0.350875    0.330697      0.390122   \n",
      "9  quetzaltenango     desconocido       0.344833    0.264378      0.184994   \n",
      "\n",
      "   IPM SERV. BASICOS       IPM  \n",
      "0           0.380666  0.400563  \n",
      "1           0.289789  0.407155  \n",
      "2           0.092642  0.122477  \n",
      "3           0.253683  0.218593  \n",
      "4           0.334824  0.487665  \n",
      "5           0.183218  0.286161  \n",
      "6           0.302400  0.564659  \n",
      "7           0.183096  0.311174  \n",
      "8           0.292213  0.409058  \n",
      "9           0.178611  0.302934  \n"
     ]
    }
   ],
   "source": [
    "# Promedio de IPM por departamento ya que se desconoce el municipio\n",
    "promedios_IPM = df_IPM.groupby('Departamento')[['IPM EDUCACION','IPM EMPLEO','IPM VIVIENDA','IPM SERV. BASICOS','IPM']].mean().reset_index()\n",
    "\n",
    "# Merge para traer promedio\n",
    "df = df.merge(promedios_IPM, on='Departamento', suffixes=('', '_prom'))\n",
    "\n",
    "# Rellenar NaN con promedio departamental\n",
    "df['IPM EDUCACION'] = df['IPM EDUCACION'].combine_first(df['IPM EDUCACION_prom'])\n",
    "df['IPM EMPLEO'] = df['IPM EMPLEO'].combine_first(df['IPM EMPLEO_prom'])\n",
    "df['IPM VIVIENDA'] = df['IPM VIVIENDA'].combine_first(df['IPM VIVIENDA_prom'])\n",
    "df['IPM SERV. BASICOS'] = df['IPM SERV. BASICOS'].combine_first(df['IPM SERV. BASICOS_prom'])\n",
    "df['IPM'] = df['IPM'].combine_first(df['IPM_prom'])\n",
    "\n",
    "# Eliminar columnas auxiliares\n",
    "df = df.drop(columns=['IPM EDUCACION_prom', 'IPM EMPLEO_prom', 'IPM VIVIENDA_prom', 'IPM SERV. BASICOS_prom', 'IPM_prom'])\n",
    "\n",
    "print(df[['Departamento','Municipio','IPM EDUCACION','IPM EMPLEO','IPM VIVIENDA','IPM SERV. BASICOS','IPM']].head(10))"
   ]
  },
  {
   "cell_type": "code",
   "execution_count": 43,
   "id": "a78ee6f8-7aef-463f-a566-78db2354a03c",
   "metadata": {},
   "outputs": [
    {
     "name": "stdout",
     "output_type": "stream",
     "text": [
      "   EDAD SEXO age_range  employment_rate\n",
      "0    34    M     25-34           95.856\n",
      "1    29    M     25-34           95.856\n",
      "2    19    M     15-24           75.472\n",
      "3    19    M     15-24           75.472\n",
      "4    29    M     25-34           95.856\n",
      "5    32    F     25-34           58.494\n",
      "6    43    M     35-44           96.128\n",
      "7    35    M     35-44           96.128\n",
      "8    27    M     25-34           95.856\n",
      "9    22    F     15-24           41.288\n"
     ]
    }
   ],
   "source": [
    "#Se tiene los siguientes valores segun la Organizacion Internacional de Trabajo ILO Stats\n",
    "df_ilo = pd.DataFrame({\n",
    "    'SEXO': ['M','M','M','M','M','M',\n",
    "                  'F','F','F','F','F','F'],\n",
    "    'age_range': ['15-24','25-34','35-44','45-54','55-64','65+',\n",
    "                       '15-24','25-34','35-44','45-54','55-64','65+'],\n",
    "    'employment_rate': [75.472,95.856,96.128,95.67,89.574,61.049,\n",
    "                  41.288,58.494,65.046,59.98,47.935,24.758]\n",
    "})\n",
    "\n",
    "# Creamos una funcion para mapear las edades\n",
    "def edad_rango(age):\n",
    "    if age <= 24:\n",
    "        return '15-24'\n",
    "    elif age <= 34:\n",
    "        return '25-34'\n",
    "    elif age <= 44:\n",
    "        return '35-44'\n",
    "    elif age <= 54:\n",
    "        return '45-54'\n",
    "    elif age <= 64:\n",
    "        return '55-64'\n",
    "    else:\n",
    "        return '65+'\n",
    "\n",
    "# Creamos columna con rango de edad\n",
    "df['age_range'] = df['EDAD'].apply(edad_rango)\n",
    "\n",
    "# Unimos los valores de tasa de empleo segun el sexo\n",
    "df = df.merge(df_ilo, on=['SEXO','age_range'], how='left')\n",
    "\n",
    "# Revisar resultado\n",
    "print(df[['EDAD','SEXO','age_range','employment_rate']].head(10))"
   ]
  },
  {
   "cell_type": "code",
   "execution_count": 44,
   "id": "da6a8b72-b19d-429a-99f4-2b453df840b0",
   "metadata": {},
   "outputs": [
    {
     "name": "stdout",
     "output_type": "stream",
     "text": [
      "   EDAD SEXO age_range2  unemployment_rate\n",
      "0    34    M        25+              1.108\n",
      "1    29    M        25+              1.108\n",
      "2    19    M      15-24              4.141\n",
      "3    19    M      15-24              4.141\n",
      "4    29    M        25+              1.108\n",
      "5    32    F        25+              2.382\n",
      "6    43    M        25+              1.108\n",
      "7    35    M        25+              1.108\n",
      "8    27    M        25+              1.108\n",
      "9    22    F      15-24              4.660\n"
     ]
    }
   ],
   "source": [
    "# Se tiene la siguiente informacion de tasa de desempleo segun el ILO Stats\n",
    "df_tdes = pd.DataFrame({\n",
    "    'SEXO': ['M','M','F','F'],\n",
    "    'age_range2': ['15-24','25+','15-24','25+'],\n",
    "    'unemployment_rate': [4.141,1.108,4.66,2.382]\n",
    "})\n",
    "\n",
    "#Crear una funcion para mapear las edades\n",
    "def edad_desempleo(age):\n",
    "    if age <= 24:\n",
    "        return '15-24'\n",
    "    else:\n",
    "        return '25+'  # Todos los mayores de 24\n",
    "\n",
    "# Creamos columna con rango de edad2\n",
    "df['age_range2'] = df['EDAD'].apply(edad_desempleo)\n",
    "\n",
    "# Unimos los valores de tasa de desempleo segun el sexo\n",
    "df = df.merge(df_tdes, on=['SEXO','age_range2'], how='left')\n",
    "\n",
    "# Revisar resultado\n",
    "print(df[['EDAD','SEXO','age_range2','unemployment_rate']].head(10))"
   ]
  },
  {
   "cell_type": "code",
   "execution_count": 45,
   "id": "d685fb74-41c5-42e8-a5c8-c0bbc5702073",
   "metadata": {},
   "outputs": [],
   "source": [
    "#Se exporta a Excel el dataset final con las variables independientes\n",
    "df.to_excel(\"DataSet_2.xlsx\", index=False)"
   ]
  },
  {
   "cell_type": "code",
   "execution_count": null,
   "id": "fd99c92b-3024-4055-a5aa-9dee8e4d41d6",
   "metadata": {},
   "outputs": [],
   "source": []
  }
 ],
 "metadata": {
  "kernelspec": {
   "display_name": "Python 3 (ipykernel)",
   "language": "python",
   "name": "python3"
  },
  "language_info": {
   "codemirror_mode": {
    "name": "ipython",
    "version": 3
   },
   "file_extension": ".py",
   "mimetype": "text/x-python",
   "name": "python",
   "nbconvert_exporter": "python",
   "pygments_lexer": "ipython3",
   "version": "3.12.6"
  }
 },
 "nbformat": 4,
 "nbformat_minor": 5
}
